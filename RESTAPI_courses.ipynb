{
 "cells": [
  {
   "cell_type": "code",
   "execution_count": 26,
   "id": "24af9967",
   "metadata": {},
   "outputs": [
    {
     "name": "stdout",
     "output_type": "stream",
     "text": [
      " * Serving Flask app \"__main__\" (lazy loading)\n",
      " * Environment: production\n",
      "\u001b[31m   WARNING: This is a development server. Do not use it in a production deployment.\u001b[0m\n",
      "\u001b[2m   Use a production WSGI server instead.\u001b[0m\n",
      " * Debug mode: off\n"
     ]
    },
    {
     "name": "stderr",
     "output_type": "stream",
     "text": [
      " * Running on http://127.0.0.1:5000/ (Press CTRL+C to quit)\n",
      "127.0.0.1 - - [17/Mar/2023 15:47:25] \"GET / HTTP/1.1\" 200 -\n",
      "127.0.0.1 - - [17/Mar/2023 15:47:35] \"GET /courses HTTP/1.1\" 200 -\n",
      "127.0.0.1 - - [17/Mar/2023 20:50:19] \"GET /courses HTTP/1.1\" 200 -\n",
      "127.0.0.1 - - [17/Mar/2023 20:51:48] \"POST /courses/c++ HTTP/1.1\" 200 -\n",
      "127.0.0.1 - - [17/Mar/2023 21:27:32] \"PUT /courses/c++ HTTP/1.1\" 200 -\n",
      "127.0.0.1 - - [17/Mar/2023 21:30:39] \"PUT /courses/c++ HTTP/1.1\" 200 -\n",
      "127.0.0.1 - - [17/Mar/2023 21:30:52] \"GET /courses HTTP/1.1\" 200 -\n"
     ]
    }
   ],
   "source": [
    "from flask import Flask, jsonify,request\n",
    "from courses import courses\n",
    "\n",
    "app = Flask(__name__)\n",
    "\n",
    "\n",
    "@app.route('/')\n",
    "def welcome():\n",
    "    return \"welcome to API\"\n",
    "\n",
    "\n",
    "@app.route('/courses', methods=['GET'])\n",
    "def get():\n",
    "    return jsonify({\"technical\":courses})\n",
    "\n",
    "\n",
    "@app.route('/courses/<c_name>',methods=['GET'])\n",
    "def getcourse(c_name):\n",
    "    coursefound= [item for item in courses if item['name']==c_name]\n",
    "    if (len(coursefound)>0):\n",
    "        return jsonify({\"course\":coursefound[0]})\n",
    "    else:\n",
    "        return jsonify({\"message\":\"course not found\"})\n",
    "\n",
    "\n",
    "@app.route('/courses/<name>',methods=['POST'])\n",
    "def addcourse(name):\n",
    "    for course in courses:\n",
    "        if name not in course:\n",
    "            data=request.json\n",
    "#              new_course={\n",
    "#                 \"name\":request.json['name'],\n",
    "#                 \"c_id\":request.json['c_id'],\n",
    "#                 \"type\":request.json['type'],\n",
    "#                 \"length\":request.json['length'],\n",
    "#                 \"format\":request.json['format']\n",
    "#              }\n",
    "            courses.append(data)\n",
    "            return jsonify({\"new_courses\":courses},\"successfully created\")\n",
    "        else:\n",
    "            return \"already exits\"\n",
    "\n",
    "@app.route('/courses/<string:c_name>',methods=['PUT'])\n",
    "def update(c_name):\n",
    "    coursefound=[course for course in courses if course['name']==c_name]\n",
    "    if (len(coursefound)>0):\n",
    "        coursefound[0]['name']=request.json['name']\n",
    "        coursefound[0]['c_id']=request.json['c_id']\n",
    "        coursefound[0]['type'] = request.json['type']\n",
    "        coursefound[0]['length'] = request.json['length']\n",
    "        coursefound[0]['format'] = request.json['format']\n",
    "        return jsonify({\"courses\":\"coursefound[0]\"},\"product updated\")\n",
    "    else:\n",
    "        return jsonify(\"course not found\")\n",
    "\n",
    "@app.route('/courses/<c_name>',methods=['DELETE'])\n",
    "def delete(c_name):\n",
    "    coursefound=[course for course in courses if course['name']==c_name]\n",
    "    if len(coursefound)>0:\n",
    "        courses.remove(coursefound[0])\n",
    "        return jsonify({\"courses\":courses},\"crouse removed\")\n",
    "    else:\n",
    "        return \"no such course to delete\"\n",
    "\n",
    "\n",
    "\n",
    "if __name__ == '__main__':\n",
    "    app.run()\n"
   ]
  },
  {
   "cell_type": "code",
   "execution_count": 15,
   "id": "4e7ca8dd",
   "metadata": {},
   "outputs": [],
   "source": [
    "from courses import courses"
   ]
  },
  {
   "cell_type": "code",
   "execution_count": null,
   "id": "27ce360c",
   "metadata": {},
   "outputs": [],
   "source": []
  }
 ],
 "metadata": {
  "kernelspec": {
   "display_name": "Python 3 (ipykernel)",
   "language": "python",
   "name": "python3"
  },
  "language_info": {
   "codemirror_mode": {
    "name": "ipython",
    "version": 3
   },
   "file_extension": ".py",
   "mimetype": "text/x-python",
   "name": "python",
   "nbconvert_exporter": "python",
   "pygments_lexer": "ipython3",
   "version": "3.9.7"
  }
 },
 "nbformat": 4,
 "nbformat_minor": 5
}
