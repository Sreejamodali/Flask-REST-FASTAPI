{
 "cells": [
  {
   "cell_type": "code",
   "execution_count": 1,
   "id": "0e8b0082",
   "metadata": {},
   "outputs": [],
   "source": [
    "courses=[{\"name\":\"python\",\"c_id\":\"1\",\"type\":\"programming\",\"length\":\"2hrs 30mins\",\"format\":\"audio\"},\n",
    " {\"name\":\"java\",\"c_id\":\"2\",\"type\":\"programming\",\"length\":\"3hrs\",\"format\":\"video\"}]"
   ]
  },
  {
   "cell_type": "code",
   "execution_count": null,
   "id": "bc4f1ffb",
   "metadata": {},
   "outputs": [],
   "source": []
  }
 ],
 "metadata": {
  "kernelspec": {
   "display_name": "Python 3 (ipykernel)",
   "language": "python",
   "name": "python3"
  },
  "language_info": {
   "codemirror_mode": {
    "name": "ipython",
    "version": 3
   },
   "file_extension": ".py",
   "mimetype": "text/x-python",
   "name": "python",
   "nbconvert_exporter": "python",
   "pygments_lexer": "ipython3",
   "version": "3.9.7"
  }
 },
 "nbformat": 4,
 "nbformat_minor": 5
}
